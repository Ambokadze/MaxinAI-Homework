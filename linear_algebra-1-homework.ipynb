{
 "cells": [
  {
   "cell_type": "code",
   "execution_count": null,
   "metadata": {},
   "outputs": [],
   "source": [
    "%load_ext autoreload\n",
    "%autoreload 2\n",
    "\n",
    "%matplotlib inline"
   ]
  },
  {
   "cell_type": "markdown",
   "metadata": {},
   "source": [
    "## Basic setup"
   ]
  },
  {
   "cell_type": "markdown",
   "metadata": {},
   "source": [
    "Create anaconda environment\n",
    "<br>\n",
    "```bash\n",
    "conda create -n ml python=3.7.4 jupyter\n",
    "```\n",
    "Install fastai library\n",
    "<br>\n",
    "```bash\n",
    "conda install -c pytorch -c fastai fastai\n",
    "```"
   ]
  },
  {
   "cell_type": "markdown",
   "metadata": {},
   "source": [
    "# Set theory basics"
   ]
  },
  {
   "cell_type": "markdown",
   "metadata": {},
   "source": [
    "#### Prove that:\n",
    "<br>\n",
    "$A \\subseteq A$"
   ]
  },
  {
   "cell_type": "markdown",
   "metadata": {},
   "source": [
    "#### Proof:\n",
    "For any $a \\in A$ By the law of identity $a \\in A \\Rightarrow a \\in A $, so $A \\subseteq A$"
   ]
  },
  {
   "cell_type": "markdown",
   "metadata": {},
   "source": [
    "#### Prove that:\n",
    "<br>\n",
    "If $A \\subseteq B$ and $B \\subseteq A$ $\\to$ $A = B$"
   ]
  },
  {
   "cell_type": "markdown",
   "metadata": {},
   "source": [
    "#### Proof\n",
    "Let's take arbitrary $x$, as long as  $A \\subseteq B$ if $x \\in A$ then $x \\in B$. \n",
    "$B \\subseteq A$, so if $x \\in B$ then $x \\in A$. So we have that $x \\in A$ if and only if \\$x \\in B$, this means $A=B$"
   ]
  },
  {
   "cell_type": "markdown",
   "metadata": {},
   "source": [
    "#### Prove that:\n",
    "<br>\n",
    "if $B \\subset A$ then $A \\cap B = B$"
   ]
  },
  {
   "cell_type": "markdown",
   "metadata": {},
   "source": [
    "#### Proof\n",
    "If $x \\in A \\cap B$, then $x \\in A$ and $x \\in B$, in particular $x \\in B$. So $A \\cap B \\subset B$. Now if $x \\in B$,\n",
    "then $x \\in A$, too, so $x \\in A \\cap B$. This proves $B \\subset A \\cap B$.\n",
    "Together this implies $B = A \\cap B$."
   ]
  },
  {
   "cell_type": "markdown",
   "metadata": {},
   "source": [
    "#### Prove that:\n",
    "<br>\n",
    "$A \\cap B = B \\cap A$"
   ]
  },
  {
   "cell_type": "markdown",
   "metadata": {},
   "source": [
    "#### Proof\n",
    "\n",
    "If $x \\in A \\cap B$, then $x \\in A$ and $x \\in B$. <br> hence $x \\in B \\cap A$, then $x \\in B$ and $x \\in A$ and  $x \\in B \\cap A$. Therefore, $A \\cap B \\subseteq B \\cap A$\n",
    "<br>\n",
    "If $x \\in B \\cap A$, then $x \\in B$ and $x \\in A$. <br> hence $x \\in A \\cap B$, then $x \\in A$ and $x \\in B$ and  $x \\in A \\cap B$. Therefore, $B \\cap A \\subseteq A \\cap B$.\n",
    "<br>\n",
    "Finally, $A \\cap B = B \\cap A$"
   ]
  },
  {
   "cell_type": "markdown",
   "metadata": {},
   "source": [
    "#### Prove that:\n",
    "<br>\n",
    "if $B \\subset A$ then $A \\cup B = A$"
   ]
  },
  {
   "cell_type": "markdown",
   "metadata": {},
   "source": [
    "#### Proof\n",
    "If $x \\in A \\cup B$, then $x \\in A$ or $x \\in B$, in particular $x \\in A$. So $A \\cup B \\subset A$. Now if $x \\in B$,\n",
    "then $x \\in A$, too, so $x \\in A \\cup B$. This proves $A\\subset A \\cup B$.\n",
    "Together this implies $A = A \\cup B$."
   ]
  },
  {
   "cell_type": "markdown",
   "metadata": {},
   "source": [
    "#### Prove that:\n",
    "<br>\n",
    "$A \\cup B = B \\cup A$"
   ]
  },
  {
   "cell_type": "markdown",
   "metadata": {},
   "source": [
    "#### Proof\n",
    "If $x \\in A \\cup B$, then $x \\in A$ or $x \\in B$. <br> hence $x \\in B \\cup A$, then $x \\in B$ or $x \\in A$ and  $x \\in B \\cup A$. Therefore, $A \\cup B \\subseteq B \\cup A$\n",
    "<br>\n",
    "If $x \\in B \\cup A$, then $x \\in B$ or $x \\in A$. <br> hence $x \\in A \\cup B$, then $x \\in A$ or $x \\in B$ and  $x \\in A \\cup B$. Therefore, $B \\cup A \\subseteq A \\cup B$.\n",
    "<br>\n",
    "Finally, $A \\cup B = B \\cup A$"
   ]
  },
  {
   "cell_type": "markdown",
   "metadata": {},
   "source": [
    "#### Prove that:\n",
    "- for every injection $m:A \\to B$ and pair of functions $f, g :C \\to A$: if $m \\circ f = m \\circ g$ then $f = g$ and vice-versa\n",
    "- for every surjection $e:A \\to B$ and every pair of functions $f, g :B \\to C$: if $f \\circ e = g \\circ e$ then $f = g$ and vice-versa"
   ]
  },
  {
   "cell_type": "markdown",
   "metadata": {},
   "source": [
    "#### Proof\n",
    "1.) <br>\n",
    "If $m \\circ f = m \\circ g$, then <br>\n",
    "$m \\circ f=m(f(c))$ for $c \\in C$ <br>\n",
    "$m \\circ g=m(g(c))$ for $c \\in C$ <br>\n",
    "$m(f(c))= g=m(g(c))$, becase m is injection we get <br>\n",
    "$f(c)=g(c) \\Rightarrow f=g$\n",
    "<br>\n",
    "<br>\n",
    "If $f=g$ we can use injection on both sides, $m(f)=m(g)$, so $m \\circ f=m \\circ g$"
   ]
  },
  {
   "cell_type": "markdown",
   "metadata": {},
   "source": [
    "#### Prove that \n",
    "- composition of injections is injection itself\n",
    "- composition of surjections is surjection itself\n",
    "- composition of bijections is bijection itself\n",
    "<br>\n",
    "or give a counterexamples"
   ]
  },
  {
   "cell_type": "markdown",
   "metadata": {},
   "source": [
    "#### Proof\n",
    "1.)Let $f,g$ be injective functions then by definition <br> $g \\circ f(x_1) = g \\circ f(x_2)$ <br>\n",
    "$g(f(x_1)=g(f(x_2))$ <br>\n",
    "$f(x_1)=f(x_2)$ <br>\n",
    "$x_1=x_1$\n",
    "\n",
    "2.) Let $f,g$ be surjective functions <br>\n",
    "Let $g(x_1)=x_2$ and $f(x_3)=x_1$ <br>\n",
    "Then $(g \\circ f)(x_3)=g(f(x_3))=g(x_1)=x_2$\n",
    "\n",
    "3.) Bijection is also an injection, a composition of bijections is also a composition of injections. \\\n",
    "Composition of injections is also an injection (See Proof 1). \\\n",
    "Bijection is also a surjection, a composition of bijections is also a composition of surjections. \\\n",
    "Every composition of surjections is also a surjection (See Proof 2). \\\n",
    "So composition of bijections is therefore both an injection and a surjection, it is also a bijection."
   ]
  },
  {
   "cell_type": "markdown",
   "metadata": {},
   "source": [
    "#### Prove that for each set $A$:\n",
    "- $A \\cong A$\n",
    "- if $B \\cong A$ then $B \\cong A$ for every pair of sets $A$ and $B$\n",
    "- if $A \\cong B$ and $B \\cong C$ then $A \\cong C$ for every triplet $A$, $B$ and $C$"
   ]
  },
  {
   "cell_type": "markdown",
   "metadata": {},
   "source": [
    "#### Prove that:\n",
    "<br>\n",
    "there exists a bijection between set of natural and even numbers"
   ]
  },
  {
   "cell_type": "markdown",
   "metadata": {},
   "source": [
    "#### Prove that:\n",
    "<br>\n",
    "if we have a bijection between two finite sets than they have an equal number of elements"
   ]
  },
  {
   "cell_type": "markdown",
   "metadata": {},
   "source": [
    "#### Prove that:\n",
    "<br>\n",
    "$A \\times B \\cong B \\times A$"
   ]
  },
  {
   "cell_type": "markdown",
   "metadata": {},
   "source": [
    "$\\cap_{i\\in I}A_i$ and $\\cup_{i\\in I}A_i$"
   ]
  },
  {
   "cell_type": "code",
   "execution_count": null,
   "metadata": {},
   "outputs": [],
   "source": [
    "# Inplement in python"
   ]
  },
  {
   "cell_type": "markdown",
   "metadata": {},
   "source": [
    "We can also define cartesian product of any \"number\" of sets $\\prod_{i \\in I}{A_i}$"
   ]
  },
  {
   "cell_type": "code",
   "execution_count": 29,
   "metadata": {},
   "outputs": [],
   "source": [
    "#Cartesian product for two sets\n",
    "\n",
    "def CartProd(A,B):\n",
    "    if len(A)==0 or len(B)==0:\n",
    "        return None\n",
    "    product = []\n",
    "    for i in A:\n",
    "        for j in B:\n",
    "            product.append([i,j])\n",
    "    return product\n",
    "\n",
    "#Cartesian product for multiple sets\n",
    "def CartProdMult(list_1,N):\n",
    "    result = list_a[0]\n",
    "    for i in range(1, n): \n",
    "        result = CartProd(result, list_a[i])        \n",
    "    return result"
   ]
  },
  {
   "cell_type": "markdown",
   "metadata": {},
   "source": [
    "#### Prove that:\n",
    "<br>\n",
    "$$A \\cap (B \\cup C)=(A \\cap B) \\cup (A\\cap C)$$\n",
    "$$A \\cup (B \\cap C)=(A \\cup B) \\cap (A\\cup C)$$"
   ]
  },
  {
   "cell_type": "markdown",
   "metadata": {},
   "source": [
    "Let $x \\in A \\cap (B\\cup C)$. Then $x \\in A $ and $x \\in B \\cup C$. Thus $x \\in A$ and $x \\in B$ or $x \\in C$.\n",
    "Hence $x \\in A $ and $x \\in B$ or $x \\in A$ and $x \\in C$. In other words, we have $x \\in A \\cap B$ or $x \\in A \\cap C$. Therefore,\n",
    "$x \\in (A \\cap B) \\cup (A \\cap C)$, that is $A \\cap (B \\cup C) \\subseteq (A \\cap B) \\cup (A \\cap C)$. In same manner $(A \\cap B) \\cup (A \\cap C) \\subseteq A \\cap (B \\cup C$ so $A \\cap (B \\cup C)=(A \\cap B) \\cup (A\\cap C)$."
   ]
  },
  {
   "cell_type": "markdown",
   "metadata": {},
   "source": [
    "Let $x \\in A \\cup (B\\cap C)$. Then $x \\in A $ or $x \\in B \\cup C$. Thus $x \\in A$ or $x \\in B$ and $x \\in C$.\n",
    "Hence $x \\in A $ or $x \\in B$ and $x \\in C$. In other words, we have $x \\in A$ or $x \\in B \\cap C$. Therefore,\n",
    "$x \\in (A \\cup B) \\cap (A \\cup C)$, that is $A \\cup (B \\cap C) \\subseteq (A \\cup B) \\cap (A \\cup C)$. In same manner $(A \\cup B) \\cap (A \\cup C) \\subseteq A \\cup (B \\cap C)$ so $A \\cup (B \\cap C)=(A \\cup B) \\cap (A\\cup C)$."
   ]
  },
  {
   "cell_type": "markdown",
   "metadata": {},
   "source": [
    "# Linear Algebra"
   ]
  },
  {
   "cell_type": "markdown",
   "metadata": {},
   "source": [
    "#### Prove that:\n",
    "<br>\n",
    "$(AB)^{T} = B^{T}A^{T}$ for each pair of matrices $A, B \\in \\mathbb{R}^{n \\times m}$"
   ]
  },
  {
   "cell_type": "markdown",
   "metadata": {},
   "source": [
    "#### Proof\n",
    "$(AB)^T=(ab)^T_{ki}\n",
    "=ab_{ik}\n",
    "=\\sum_{j=1}^na_{ij}b_{jk}\\tag{1}\n",
    "$\n",
    "\n",
    "$\n",
    "B^TA^T=(b^Ta^T)_{ki}\n",
    "=\\sum_{j=1}^nb^T_{kj}a^T_{ji}\n",
    "=\\sum_{j=1}^nb_{jk}a_{ij}\n",
    "=\\sum_{j=1}^na_{ij}b_{jk}\\tag{2}\n",
    "$"
   ]
  },
  {
   "cell_type": "markdown",
   "metadata": {},
   "source": [
    "## Functions on tensors"
   ]
  },
  {
   "cell_type": "markdown",
   "metadata": {},
   "source": [
    "#### Write combination for $XOR$ calculation"
   ]
  }
 ],
 "metadata": {
  "kernelspec": {
   "display_name": "Python 3",
   "language": "python",
   "name": "python3"
  },
  "language_info": {
   "codemirror_mode": {
    "name": "ipython",
    "version": 3
   },
   "file_extension": ".py",
   "mimetype": "text/x-python",
   "name": "python",
   "nbconvert_exporter": "python",
   "pygments_lexer": "ipython3",
   "version": "3.7.3"
  }
 },
 "nbformat": 4,
 "nbformat_minor": 4
}
