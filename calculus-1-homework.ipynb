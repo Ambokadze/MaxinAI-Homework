{
 "cells": [
  {
   "cell_type": "code",
   "execution_count": null,
   "metadata": {},
   "outputs": [],
   "source": [
    "%load_ext autoreload\n",
    "%autoreload 2\n",
    "\n",
    "%matplotlib inline"
   ]
  },
  {
   "cell_type": "markdown",
   "metadata": {},
   "source": [
    "## Basic setup"
   ]
  },
  {
   "cell_type": "markdown",
   "metadata": {},
   "source": [
    "Create anaconda environment\n",
    "<br>\n",
    "```bash\n",
    "conda create -n ml python=3.7.4 jupyter\n",
    "```\n",
    "Install fastai library\n",
    "<br>\n",
    "```bash\n",
    "conda install -c pytorch -c fastai fastai\n",
    "```"
   ]
  },
  {
   "cell_type": "code",
   "execution_count": null,
   "metadata": {},
   "outputs": [],
   "source": [
    "!pip install https://github.com/ipython-contrib/jupyter_contrib_nbextensions/tarball/master\n",
    "!pip install jupyter_nbextensions_configurator\n",
    "!jupyter contrib nbextension install --user\n",
    "!jupyter nbextensions_configurator enable --user"
   ]
  },
  {
   "cell_type": "markdown",
   "metadata": {},
   "source": [
    "# Metric spaces"
   ]
  },
  {
   "cell_type": "markdown",
   "metadata": {},
   "source": [
    "#### Prove that:\n",
    "For every metric space (X, d):\n",
    "- For eny $\\mathcal{U} = \\{U | U$ is open in $(X, d)\\}$ holds $\\bigcup_{U \\in \\mathcal{U}} U$ is open in $(X, d)$\n",
    "- For eny two $U, V \\subset X$ open in $(X, d)$ holds: $U \\cap V$ is open in $(X, d)$\n",
    "- $X$ is open in $(X, d)$\n",
    "- $\\emptyset$ is open in $(X, d)$"
   ]
  },
  {
   "cell_type": "markdown",
   "metadata": {},
   "source": [
    "1.) <br>\n",
    "Let $x \\in U_i$, where $U_i \\in \\mathcal{U}$, since $U_i$ is open $(X,d)$, there $\\exists \\epsilon : B_{\\epsilon}(x) \\subseteq U_i \\subseteq \\bigcup_{U \\in \\mathcal{U}}$, where $B_{\\epsilon}(x)$ is an open ball.\n",
    "<br>\n",
    "2.) <br>\n",
    "Let $x \\in U \\cap V$, we have $x \\in U$ and $x \\in V$, thus $\\exists \\epsilon_1,\\epsilon_2>0 : B_{\\epsilon_1}(x),B_{\\epsilon_2}(x) \\subseteq U,V$ respectevly. Let $\\epsilon_1 > \\epsilon_2$ (or vice versa) then $B_{\\epsilon_2}(x)\\subseteq B_{\\epsilon_1}(x) \\subseteq U,V$, so $B_{\\epsilon_2}(x) \\subseteq U \\cap V$ which means that $U \\cap V$ is open in $(X,d)$\n",
    "<br>\n",
    "3.) <br>\n",
    "$X$ is open because any ball is by definition a subset of $X$.\n",
    "<br>\n",
    "4.) <br>\n",
    "There is no $x \\in \\emptyset$  such that $\\forall x \\in \\emptyset : \\exists \\epsilon > 0 : B_{\\epsilon}(x) ⊆ \\emptyset$. "
   ]
  },
  {
   "cell_type": "markdown",
   "metadata": {},
   "source": [
    "#### Prove that:\n",
    "- For аny finity set $(U)_{i=1}^{n}$ of open sets in $(X, d)$, $\\bigcap_{i=1}^{n}U$ is open in $(X, d)$"
   ]
  },
  {
   "cell_type": "markdown",
   "metadata": {},
   "source": [
    "#### Proof \n",
    "Let $x \\in \\bigcap_{i=1}^nU_i $, we have $x \\in U_i$ for each $i$ , thus $\\exists \\epsilon_i0 : B_{\\epsilon_i}(x),\\subseteq U_i$ respectevly. Let $\\epsilon = \\min_{i=1}^n(\\epsilon_i)$ then $B_{\\epsilon}(x)\\subseteq B_{\\epsilon_i}(x) \\subseteq U_i$, so $B_{\\epsilon}(x) \\subseteq \\bigcap_{i=1}^nU_i$ which means that $\\bigcap_{i=1}^nU_i$ is open in $(X,d)$\n",
    "<br>"
   ]
  },
  {
   "cell_type": "markdown",
   "metadata": {},
   "source": [
    "#### Prove that for set $U \\subset X$ is open if and only if for each point $x \\in U$ there exists the open neighbourhood $V$ of $x$ such that $V \\subset U$"
   ]
  },
  {
   "cell_type": "markdown",
   "metadata": {},
   "source": [
    "#### Prove that, closed ball is closed subset in $(X, d)$\n"
   ]
  },
  {
   "cell_type": "markdown",
   "metadata": {},
   "source": [
    "#### Proof\n",
    "Let $\\bar{B}_(x,r)$ be a closed ball with radius $r$, if $X=\\bar{B}_(x,r)$ then $X^c=\\emptyset$ is open, hence $\\bar{B}_(x,r)$ is closed. <br>\n",
    "If $X \\neq ∅$, take $y ∈ X \\setminus \\bar{B}(x, r)$.<br>\n",
    "Then $\\epsilon = d(x, y) − r > 0$. If $x \\in B(y, \\epsilon)$, then <br>\n",
    "$d(x, z) ≥ d(x, y) − d(y, z) > d(x, y) − \\epsilon = r$ <br>\n",
    "showing that $(y, c) \\subset (\\bar{B}(x, r))^c $ <br>\n",
    "Since this holds for any $y \\notin B(x, r), (B(x, r))^c$ is open hence $\\bar{B}_(x,r)$ is closed<br>\n"
   ]
  },
  {
   "cell_type": "markdown",
   "metadata": {},
   "source": [
    "#### Prove that\n",
    "For every metric space (X, d):\n",
    "- For eny $\\mathcal{F} = \\{F | F$ is closed in $(X, d)\\}$ holds $\\bigcap_{F \\in \\mathcal{F}} F$ is closed in $(X, d)$\n",
    "- For eny two $F_1, F_2 \\subset X$ closed in $(X, d)$ holds: $F_1 \\cup F_2$ is closed in $(X, d)$\n",
    "- $X$ is closed in $(X, d)$\n",
    "- $\\emptyset$ is closed in $(X, d)$"
   ]
  },
  {
   "cell_type": "markdown",
   "metadata": {},
   "source": [
    "#### Proof \n",
    "1.) If $x$ is accumulation point for $\\bigcap_{F \\in \\mathcal{F}} F$, then $x$ is a also accumulation point for each $F$ in $\\bigcap_{F \\in \\mathcal{F}} F$, which means that infinite union intersection of closed sets is closed.\n",
    "<br>\n",
    "2.) Using De Morgans Law's: $X \\setminus F_1 \\cup F_2=(X \\setminus F_1)\\cap(X\\setminus F_2)$<br>\n",
    "$(X \\setminus F_1)$ and $(X\\setminus F_2)$ are open sets by definition, but we have already proved above that union of two open sets is also open, so $X \\setminus F_1 \\cup F_2$ is open, which means that $F_1 \\cup F_2$ is closed\n",
    "<br>\n",
    "3.) $X$ is closed because $X^c=\\emptyset$ is open (proved above)\n",
    "<br>\n",
    "4.) Since $\\emptyset$ contains no sequences, it contains all of its accumulation points, which in total there is none. Hence $\\emptyset$ is closed."
   ]
  },
  {
   "cell_type": "markdown",
   "metadata": {},
   "source": [
    "#### Prove that:\n",
    "- For eny finity set $(F)_{i=1}^{n}$ of closed sets in $(X, d)$, $\\bigcup_{i=1}^{n}F$ is closed in $(X, d)$"
   ]
  },
  {
   "cell_type": "markdown",
   "metadata": {},
   "source": [
    "#### Proof\n",
    "From De Morgan's laws:\n",
    "\n",
    "$X \\setminus \\bigcup_{i=1}^{n}F_i=\\bigcap_{i=1}^{n}(S \\setminus F_i)$,\n",
    "each of the $X \\setminus F_i$ is by definition open in X.\n",
    "\n",
    "We have that $\\bigcap_{i=1}^{n}(S \\setminus F_i)$ is the intersection of a finite number of open sets of X.\n",
    "\n",
    "Therefore, $\\bigcap_{i=1}^{n}(S \\setminus F_i)=X \\setminus \\bigcup_{i=1}^{n}F_i$ is likewise open in X.\n",
    "\n",
    "Then by definition of closed set, $\\bigcup_{i=1}^{n}F_i$ is closed in X."
   ]
  },
  {
   "cell_type": "markdown",
   "metadata": {},
   "source": [
    "#### Prove that, if $F \\subset X$ is closed then $X - F$ is open in $(X, d)$ "
   ]
  },
  {
   "cell_type": "markdown",
   "metadata": {},
   "source": [
    "#### Proof \n",
    "If $x \\in X-F$ then $x \\notin F$, then $x$ is not an accumulation point for $F$. So there exists such $\\epsilon >0$, such that $(x-\\epsilon,x+\\epsilon) \\cap F = \\emptyset$ so $(x-\\epsilon,x+\\epsilon) \\subset F$, so $X-F$ is open."
   ]
  },
  {
   "cell_type": "markdown",
   "metadata": {},
   "source": [
    "# Metrics in Euclidean spaces"
   ]
  },
  {
   "cell_type": "markdown",
   "metadata": {},
   "source": [
    "#### Prove that:\n",
    "- for every $u, v \\in \\mathbb{R}^{n}$: $d(u, v) \\geq 0$\n",
    "- for every $v \\in \\mathbb{R}^{n}$: $d(v, v) = 0$\n",
    "- for every $u, v \\in \\mathbb{R}^{n}$: $d(u, v) = d(v, u)$ (symmetry)\n",
    "- for every $u, v, w \\in \\mathbb{R}^{n}$: $d(u, w) \\leq d(v, u) + d(v, w)$ (triangle inequality)"
   ]
  },
  {
   "cell_type": "markdown",
   "metadata": {},
   "source": [
    "#### Proof\n",
    "1.) For $u \\neq v, \\exists k \\in [1,...,n] : v_k \\neq u_k$, so $d_k(u_k,v_k) \\geq 0$ so we get $\\displaystyle \\left({\\sum \\left({d_{i'} \\left({x_i, y_i}\\right)}\\right)^2}\\right)^{\\frac 1 2} = d(u,v) \\geq 0$\n",
    "<br>\n",
    "2.) $d(v,v)=\\displaystyle \\left({\\sum_{i \\mathop = 1}^n \\left({d_{i'} \\left({v_i, v_i}\\right)}\\right)^2}\\right)^{\\frac 1 2} =\\displaystyle \\left({\\sum_{i \\mathop = 1}^n 0^2}\\right)^{\\frac 1 2}=0$ <br>\n",
    "3.) $d(u,v) = \\displaystyle \\left({\\sum \\left({d_{i'} \\left({u_i, v_i}\\right)}\\right)^2}\\right)^{\\frac 1 2}=\\displaystyle \\left({\\sum \\left({d_{i'} \\left({v_i, u_i}\\right)}\\right)^2}\\right)^{\\frac 1 2}=d(v,u)$"
   ]
  },
  {
   "cell_type": "markdown",
   "metadata": {},
   "source": [
    "#### Prove the same properties hold for $d(u, v) = ||u-v||_1$ ($||u-v||_1 = \\sum_{i = 1}^{n}|u_i - v_i|$)"
   ]
  },
  {
   "cell_type": "markdown",
   "metadata": {},
   "source": [
    "## Sequences and limits"
   ]
  },
  {
   "cell_type": "markdown",
   "metadata": {},
   "source": [
    "#### Prove that $x = \\lim_{n\\to\\infty}{x_n}$ in $(X, d)$ if and only if (iff) for every $r \\in \\mathbb{R}$ there exists $n_0 \\in \\mathbb{N}$ such that: $x_i \\in B(x, r)$ for every $i \\gt n_0$"
   ]
  },
  {
   "cell_type": "markdown",
   "metadata": {},
   "source": [
    "#### Prove that if $x = \\lim_{n\\to\\infty}{x_n}$ and $x \\notin \\{-\\infty, \\infty\\}$ then $(x_i)_{i=1}^{\\infty} = (x_1, x_2, \\dots, x_n)$ is a Cauchy sequence\n",
    "<br>\n",
    "For closed set $F \\subset \\mathbb{R}^n$ and convergent sequence $(x_i)_{i=1}^{\\infty} = (x_1, x_2, \\dots, x_n)$ such that there exists $n_0 \\in \\mathbb{N}$ such that $x_i \\in F$ for each $i \\gt n_0$ then: $\\lim_{n\\to\\infty}{x_n} \\in F$"
   ]
  },
  {
   "cell_type": "markdown",
   "metadata": {},
   "source": [
    "#### Prove that if $F$ is open from previous example, statement does not hold. "
   ]
  },
  {
   "cell_type": "markdown",
   "metadata": {},
   "source": [
    "#### Prove that inherited metric is a metric"
   ]
  },
  {
   "cell_type": "markdown",
   "metadata": {},
   "source": [
    "## Limits of functions"
   ]
  },
  {
   "cell_type": "markdown",
   "metadata": {},
   "source": [
    "Let $f:S \\to Y$ is function between subset $S \\subset X$ of a metric space $(X, d_x)$ and metric space $(Y, d_Y)$\n",
    "- We say that the limit of function $f:(S, d_x) \\to (Y, d_Y)$ between metric spaces in some limit point $c \\in X$ of the subset $S$ is $y \\in Y $if for each open neighborhood of $y \\in V \\subset Y$ there exists the open seighborhood of $c \\in U \\subset X$ such that $f(U \\cap S) \\subset V$\n",
    "<br>\n",
    "This definition is equiualent of definition:\n",
    "<br>\n",
    "- The limit of function $f:(S, d_X) \\to (Y, d_Y)$ between metric spaces in limit point $c \\in X$ of the subset $S$ is $y \\in Y $ if for each open ball $B(x, r) \\subset Y$ there exists the ball $B(c, l) \\subset X$ such that $f(B(c, l) \\cap S) \\subset B(y, r)$\n",
    "<br>\n",
    "or\n",
    "<br>\n",
    "- The limit of function $f:(S, d_X) \\to (Y, d_Y)$ between metric spaces in limit point $c \\in X$ of subset $S$ is $y \\in Y $ if for any $r \\in \\mathbb{R}$ there exists $l \\in \\mathbb{R}$ such that for every $x \\in S$ with $d_X(x, c) < l$ implies that $d_Y(f(x), y) < r$"
   ]
  },
  {
   "cell_type": "markdown",
   "metadata": {},
   "source": [
    "#### Prove that this three definitions are equiualent for eny function between eny two metric spaces"
   ]
  },
  {
   "cell_type": "markdown",
   "metadata": {},
   "source": [
    "## Continuous functions "
   ]
  },
  {
   "cell_type": "markdown",
   "metadata": {},
   "source": [
    "#### Prove that function is continuous in $c$ if for eny sequence $(x_n)_{n=1}^{\\infty} \\subset X$ such that $\\lim_{n \\to \\infty}x_n = c$ we have $\\lim_{n \\to \\infty}f(x_n) = f(c)$"
   ]
  },
  {
   "cell_type": "markdown",
   "metadata": {},
   "source": [
    "#### Prove that function is continuous if for every open set $V \\subset Y$ the $f^{-1}(V)$ is open in $X$"
   ]
  },
  {
   "cell_type": "markdown",
   "metadata": {},
   "source": [
    "Let $x \\in X$ and $f(x) \\in Y$ . We need to show For a given ball $B$ with radius $\\epsilon$ around $f(x)$, there exists a ball $C$ whose image is contained in $B$. $B$ is an open set, so is the $f^{-1}(B)$. Therefore $x$ is an interior point for it: there is a ball $C$ centered at $x$ contained in $f^{-1}(B)$. This implied what we needed to show at the beginning."
   ]
  },
  {
   "cell_type": "markdown",
   "metadata": {},
   "source": [
    "#### Prove that function is continuous if for every closed set $F \\subset Y$ the $f^{-1}(F)$ is closed in $X$"
   ]
  },
  {
   "cell_type": "markdown",
   "metadata": {},
   "source": [
    "Let $U$ be opein in $Y$, then $F=Y \\setminus U $ is closed , hence $f^{-1}(Y \\setminus U)=X \\setminus f^{-1}(U)$ is closed. Which implies that $f^{-1}(U)$ is open. hence using proof above gives that $f$ is continious."
   ]
  },
  {
   "cell_type": "markdown",
   "metadata": {},
   "source": [
    "#### Prove that any composition of continous functions is continous"
   ]
  },
  {
   "cell_type": "markdown",
   "metadata": {},
   "source": [
    "#### Proof \n",
    "\n",
    "Let $f : A \\to R$ and $g : B \\to R$ where $f(A) \\subset B$. If $f$ is continuous\n",
    "at $c \\in A$ and $g$ is continuous at $f(c) ∈ B$, then $g \\circ f : A \\to R$ is continuous at $c$. <br>\n",
    "\n",
    "Let $\\epsilon > 0$ be given. Since $g$ is continuous at $f(c)$, there exists $\\eta > 0$ such\n",
    "that\n",
    "$|y − f(c)| < \\eta$ and $y \\in B$ implies that $|g(y) − g (f(c))| < \\epsilon$.\n",
    "Next, since f is continuous at $c$, there exists $\\delta > 0$ such that\n",
    "$|x − c| < \\delta$ and $x \\in A$ implies that $|f(x) − f(c)| < \\in$.\n",
    "Combing these inequalities, we get that\n",
    "$|x − c| < \\delta$ and $x \\in A$ implies that $|g (f(x)) − g (f(c))| < \\epsilon$,\n",
    "which proves that $g \\circ f$ is continuous at $c$."
   ]
  }
 ],
 "metadata": {
  "kernelspec": {
   "display_name": "Python 3",
   "language": "python",
   "name": "python3"
  },
  "language_info": {
   "codemirror_mode": {
    "name": "ipython",
    "version": 3
   },
   "file_extension": ".py",
   "mimetype": "text/x-python",
   "name": "python",
   "nbconvert_exporter": "python",
   "pygments_lexer": "ipython3",
   "version": "3.7.3"
  }
 },
 "nbformat": 4,
 "nbformat_minor": 4
}
